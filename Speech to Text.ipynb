{
 "cells": [
  {
   "cell_type": "code",
   "execution_count": 20,
   "metadata": {},
   "outputs": [],
   "source": [
    "from ibm_watson import SpeechToTextV1\n",
    "from ibm_watson.websocket import RecognizeCallback, AudioSource \n",
    "from ibm_cloud_sdk_core.authenticators import IAMAuthenticator"
   ]
  },
  {
   "cell_type": "code",
   "execution_count": 21,
   "metadata": {},
   "outputs": [],
   "source": [
    "apikey = '6yqI4Ag-oUqMW_GZ02KEgwnWCPXqpUBO3Kt6ZoZhHBa5'\n",
    "url = 'https://api.us-south.speech-to-text.watson.cloud.ibm.com/instances/cbe70cfa-8d0a-42fb-a31a-703be7037637'"
   ]
  },
  {
   "cell_type": "code",
   "execution_count": 22,
   "metadata": {},
   "outputs": [],
   "source": [
    "# Setup Service\n",
    "authenticator = IAMAuthenticator(apikey)\n",
    "stt = SpeechToTextV1(authenticator=authenticator)\n",
    "stt.set_service_url(url)"
   ]
  },
  {
   "cell_type": "code",
   "execution_count": 31,
   "metadata": {},
   "outputs": [],
   "source": [
    "# perform conversion\n",
    "with open('output.mp3', 'rb') as f:\n",
    "    res = stt.recognize(audio=f, content_type='audio/mp3', model='en-US_NarrowbandModel', continuous=True).get_result()"
   ]
  },
  {
   "cell_type": "code",
   "execution_count": 37,
   "metadata": {},
   "outputs": [
    {
     "data": {
      "text/plain": [
       "{'result_index': 0,\n",
       " 'results': [{'final': True,\n",
       "   'alternatives': [{'transcript': \"it was time for a check up let me didn't even have to look in the mirror even though he was going bald he knew that he needed to cut his hair every two weeks dot eighty at the time of her on the top of his head his hair was filling in the crown he still had plenty of hair on the sides and back it was what they call sorted pepper a mixture of grey hair and dark brown hair it was only a few years he figured until the salt and pepper became just sold dot A. G. never let his hair grow for more than two weeks the longer it got the worst it looked he thought dot eighty spread a newspaper over the bathroom sink so that know how went down the drain he plugged in the clippers and started cutting his head he started at the back of his head went to the sides and finished on the top every minute or so he had to clean the head of the blades with an old toothbrush dot finished he picked up a handful to check out the back of his head everything looked okay he carried the newspaper back out to the kitchen and shook the head clippings into the trash can then he took a shower \",\n",
       "     'confidence': 0.85}]}]}"
      ]
     },
     "execution_count": 37,
     "metadata": {},
     "output_type": "execute_result"
    }
   ],
   "source": [
    "res"
   ]
  },
  {
   "cell_type": "code",
   "execution_count": 32,
   "metadata": {},
   "outputs": [
    {
     "data": {
      "text/plain": [
       "\"it was time for a check out lady didn't even have to look in the mirror even though he was going bald he knew that he needed to cut his hair every two weeks dot AG had a ton of head on the top of his head his head was sitting at the crown he still had plenty of hair on the sides and back it was what they call salt and pepper a mixture of gray hair and dark brown hair it was only a few years he figured into the salt and pepper became just sold dot H. she never let his head group for more than two weeks the longer it goes on the worse it looked he thought dot H. E. spry to newspaper over the bathroom sink so that no had went down the drain he plugged in the clippers and started cutting his hair he started at the back of his head went to the sides and finished on the top every my new tool so he had to clean the hair out of the blades with an old toothbrush dot finished he picked up I had but I did check out the back of his head everything looked okay he Kerry the newspaper back out to the kitchen and shook her head clippings into the trash can then he took a shower \""
      ]
     },
     "execution_count": 32,
     "metadata": {},
     "output_type": "execute_result"
    }
   ],
   "source": [
    "text = res['results'][0]['alternatives'][0]['transcript']\n",
    "text\n"
   ]
  },
  {
   "cell_type": "code",
   "execution_count": 33,
   "metadata": {},
   "outputs": [
    {
     "data": {
      "text/plain": [
       "0.79"
      ]
     },
     "execution_count": 33,
     "metadata": {},
     "output_type": "execute_result"
    }
   ],
   "source": [
    "confidence = res['results'][0]['alternatives'][0]['confidence']\n",
    "confidence"
   ]
  },
  {
   "cell_type": "code",
   "execution_count": 34,
   "metadata": {},
   "outputs": [],
   "source": [
    "with open('output.txt', 'w') as out:\n",
    "    out.writelines(text)"
   ]
  },
  {
   "cell_type": "code",
   "execution_count": 36,
   "metadata": {},
   "outputs": [],
   "source": [
    "# Perform conversion\n",
    "with open('output.mp3', 'rb') as f:\n",
    "    res = stt.recognize(audio=f, content_type='audio/mp3', model='en-AU_NarrowbandModel', continuous=True).get_result()"
   ]
  },
  {
   "cell_type": "code",
   "execution_count": 38,
   "metadata": {},
   "outputs": [
    {
     "data": {
      "text/plain": [
       "{'result_index': 0,\n",
       " 'results': [{'final': True,\n",
       "   'alternatives': [{'transcript': \"it was time for a check up let me didn't even have to look in the mirror even though he was going bald he knew that he needed to cut his hair every two weeks dot eighty at the time of her on the top of his head his hair was filling in the crown he still had plenty of hair on the sides and back it was what they call sorted pepper a mixture of grey hair and dark brown hair it was only a few years he figured until the salt and pepper became just sold dot A. G. never let his hair grow for more than two weeks the longer it got the worst it looked he thought dot eighty spread a newspaper over the bathroom sink so that know how went down the drain he plugged in the clippers and started cutting his head he started at the back of his head went to the sides and finished on the top every minute or so he had to clean the head of the blades with an old toothbrush dot finished he picked up a handful to check out the back of his head everything looked okay he carried the newspaper back out to the kitchen and shook the head clippings into the trash can then he took a shower \",\n",
       "     'confidence': 0.85}]}]}"
      ]
     },
     "execution_count": 38,
     "metadata": {},
     "output_type": "execute_result"
    }
   ],
   "source": [
    "res"
   ]
  },
  {
   "cell_type": "code",
   "execution_count": null,
   "metadata": {},
   "outputs": [],
   "source": []
  }
 ],
 "metadata": {
  "kernelspec": {
   "display_name": "Python 3",
   "language": "python",
   "name": "python3"
  },
  "language_info": {
   "codemirror_mode": {
    "name": "ipython",
    "version": 3
   },
   "file_extension": ".py",
   "mimetype": "text/x-python",
   "name": "python",
   "nbconvert_exporter": "python",
   "pygments_lexer": "ipython3",
   "version": "3.8.5"
  }
 },
 "nbformat": 4,
 "nbformat_minor": 4
}

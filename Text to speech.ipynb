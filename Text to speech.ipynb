{
 "cells": [
  {
   "cell_type": "code",
   "execution_count": 105,
   "metadata": {},
   "outputs": [
    {
     "name": "stdout",
     "output_type": "stream",
     "text": [
      "Requirement already satisfied: ibm-watson>=5.2.0 in c:\\users\\mssh\\anaconda3\\lib\\site-packages (5.2.2)\n",
      "Requirement already satisfied: requests<3.0,>=2.0 in c:\\users\\mssh\\anaconda3\\lib\\site-packages (from ibm-watson>=5.2.0) (2.26.0)\n",
      "Requirement already satisfied: python-dateutil>=2.5.3 in c:\\users\\mssh\\anaconda3\\lib\\site-packages (from ibm-watson>=5.2.0) (2.8.2)\n",
      "Requirement already satisfied: websocket-client==1.1.0 in c:\\users\\mssh\\anaconda3\\lib\\site-packages (from ibm-watson>=5.2.0) (1.1.0)\n",
      "Requirement already satisfied: ibm-cloud-sdk-core==3.*,>=3.3.6 in c:\\users\\mssh\\anaconda3\\lib\\site-packages (from ibm-watson>=5.2.0) (3.10.1)\n",
      "Requirement already satisfied: PyJWT<3.0.0,>=2.0.1 in c:\\users\\mssh\\anaconda3\\lib\\site-packages (from ibm-cloud-sdk-core==3.*,>=3.3.6->ibm-watson>=5.2.0) (2.1.0)\n",
      "Requirement already satisfied: six>=1.5 in c:\\users\\mssh\\anaconda3\\lib\\site-packages (from python-dateutil>=2.5.3->ibm-watson>=5.2.0) (1.16.0)\n",
      "Requirement already satisfied: charset-normalizer~=2.0.0 in c:\\users\\mssh\\anaconda3\\lib\\site-packages (from requests<3.0,>=2.0->ibm-watson>=5.2.0) (2.0.3)\n",
      "Requirement already satisfied: certifi>=2017.4.17 in c:\\users\\mssh\\anaconda3\\lib\\site-packages (from requests<3.0,>=2.0->ibm-watson>=5.2.0) (2021.5.30)\n",
      "Requirement already satisfied: idna<4,>=2.5 in c:\\users\\mssh\\anaconda3\\lib\\site-packages (from requests<3.0,>=2.0->ibm-watson>=5.2.0) (3.2)\n",
      "Requirement already satisfied: urllib3<1.27,>=1.21.1 in c:\\users\\mssh\\anaconda3\\lib\\site-packages (from requests<3.0,>=2.0->ibm-watson>=5.2.0) (1.26.6)\n",
      "Note: you may need to restart the kernel to use updated packages.\n"
     ]
    }
   ],
   "source": [
    "pip install --upgrade \"ibm-watson>=5.2.0\"\n"
   ]
  },
  {
   "cell_type": "code",
   "execution_count": 123,
   "metadata": {},
   "outputs": [],
   "source": [
    "apikey = 'CvyLgv7zbY8QwhgycgM4GXEN7OJ3HwyQvlO-JYnKwtBc'\n",
    "url = 'https://api.eu-gb.text-to-speech.watson.cloud.ibm.com/instances/33c19a95-89bf-4fc3-a11b-3772ebd691d8'"
   ]
  },
  {
   "cell_type": "code",
   "execution_count": 124,
   "metadata": {},
   "outputs": [],
   "source": [
    "from ibm_watson import TextToSpeechV1\n",
    "from ibm_cloud_sdk_core.authenticators import IAMAuthenticator"
   ]
  },
  {
   "cell_type": "code",
   "execution_count": 125,
   "metadata": {},
   "outputs": [],
   "source": [
    "# Setup Service\n",
    "authenticator = IAMAuthenticator(apikey)\n",
    "tts = TextToSpeechV1(authenticator=authenticator)\n",
    "tts.set_service_url(url)"
   ]
  },
  {
   "cell_type": "code",
   "execution_count": 126,
   "metadata": {},
   "outputs": [],
   "source": [
    "with open('./speech.mp3', 'wb') as audio_file:\n",
    "    res=tts.synthesize('Hello World!', accept='audio/mp3', voice='en-US_AllisonV3Voice').get_result()\n",
    "    audio_file.write(res.content)"
   ]
  },
  {
   "cell_type": "code",
   "execution_count": 131,
   "metadata": {},
   "outputs": [],
   "source": [
    "with open('output.txt', 'r') as f:\n",
    "    text = f.readlines()"
   ]
  },
  {
   "cell_type": "code",
   "execution_count": 132,
   "metadata": {},
   "outputs": [
    {
     "data": {
      "text/plain": [
       "[\"It was time for a haircut. Lenny didn't even have to look in the mirror. Even though he was going bald, he knew that he needed to cut his hair every two weeks.\\n\",\n",
       " '\\n',\n",
       " 'He had a \"tongue\" of hair on the top of his head. His hair was thinning at the crown. He still had plenty of hair on the sides and back. It was what they call \"salt and pepper,\" a mixture of gray hair and dark brown hair. It was only a few years, he figured, until the salt and pepper became just salt.\\n',\n",
       " '\\n',\n",
       " 'He never let his hair grow for more than two weeks. The longer it got, the worse it looked, he thought.\\n',\n",
       " '\\n',\n",
       " 'He spread a newspaper over the bathroom sink so that no hair went down the drain. He plugged in the clippers and started cutting his hair. He started at the back of his head, went to the sides, and finished on the top. Every minute or so, he had to clean the hair out of the blades with an old toothbrush.\\n',\n",
       " '\\n',\n",
       " 'Finished, he picked up a hand mirror to check out the back of his head. Everything looked okay. He carried the newspaper back out to the kitchen and shook the hair clippings into the trash can. Then he took a shower.']"
      ]
     },
     "execution_count": 132,
     "metadata": {},
     "output_type": "execute_result"
    }
   ],
   "source": [
    "text"
   ]
  },
  {
   "cell_type": "code",
   "execution_count": 133,
   "metadata": {},
   "outputs": [],
   "source": [
    "text = [line.replace('\\n','') for line in text]"
   ]
  },
  {
   "cell_type": "code",
   "execution_count": 134,
   "metadata": {},
   "outputs": [],
   "source": [
    "text = ''.join(str(line) for line in text)"
   ]
  },
  {
   "cell_type": "code",
   "execution_count": 136,
   "metadata": {},
   "outputs": [],
   "source": [
    "with open('./output.mp3', 'wb') as audio_file:\n",
    "    res = tts.synthesize(text, accept='audio/mp3', voice='en-GB_JamesV3Voice').get_result()\n",
    "    audio_file.write(res.content)"
   ]
  },
  {
   "cell_type": "code",
   "execution_count": null,
   "metadata": {},
   "outputs": [],
   "source": []
  }
 ],
 "metadata": {
  "kernelspec": {
   "display_name": "Python 3",
   "language": "python",
   "name": "python3"
  },
  "language_info": {
   "codemirror_mode": {
    "name": "ipython",
    "version": 3
   },
   "file_extension": ".py",
   "mimetype": "text/x-python",
   "name": "python",
   "nbconvert_exporter": "python",
   "pygments_lexer": "ipython3",
   "version": "3.8.5"
  }
 },
 "nbformat": 4,
 "nbformat_minor": 4
}
